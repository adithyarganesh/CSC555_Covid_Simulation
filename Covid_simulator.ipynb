{
 "cells": [
  {
   "cell_type": "code",
   "execution_count": 1,
   "metadata": {},
   "outputs": [],
   "source": [
    "from mesa import Agent, Model\n",
    "from mesa.time import RandomActivation\n",
    "from mesa.space import MultiGrid\n",
    "from mesa.datacollection import DataCollector\n",
    "import math\n",
    "import numpy as np"
   ]
  },
  {
   "cell_type": "code",
   "execution_count": 2,
   "metadata": {},
   "outputs": [],
   "source": [
    "class MoneyModel(Model):\n",
    "    \"\"\"A model with some number of agents.\"\"\"\n",
    "    def __init__(self, N, width, height):\n",
    "        self.num_agents = N\n",
    "        self.grid = MultiGrid(width, height, True)\n",
    "        self.schedule = RandomActivation(self)\n",
    "\n",
    "        # Create agents\n",
    "        for i in range(self.num_agents):\n",
    "            a = MoneyAgent(i, self)\n",
    "            self.schedule.add(a)\n",
    "            # Add the agent to a random grid cell\n",
    "            x = self.random.randrange(self.grid.width)\n",
    "            y = self.random.randrange(self.grid.height)\n",
    "            self.grid.place_agent(a, (x, y))\n",
    "            infected = np.random.choice([0,1], p=[0.90,0.10])\n",
    "            if infected == 1:\n",
    "                a.state = 1\n",
    "\n",
    "        self.datacollector = DataCollector(\n",
    "            agent_reporters={\"State\": \"state\"})\n",
    "\n",
    "    def step(self):\n",
    "        self.datacollector.collect(self)\n",
    "        self.schedule.step()"
   ]
  },
  {
   "cell_type": "code",
   "execution_count": 3,
   "metadata": {},
   "outputs": [],
   "source": [
    "def compute_gini(model):\n",
    "    agent_wealths = [agent.affected for agent in model.schedule.agents]\n",
    "    x = sorted(agent_wealths)\n",
    "    N = model.num_agents\n",
    "    B = sum( xi * (N-i) for i,xi in enumerate(x) ) / (N*sum(x))\n",
    "    return (1 + (1/N) - 2*B)"
   ]
  },
  {
   "cell_type": "code",
   "execution_count": 4,
   "metadata": {},
   "outputs": [],
   "source": [
    "def create_day(model):\n",
    "    h = model.grid.height\n",
    "    w = model.grid.width\n",
    "\n",
    "    print(\"Parks\")\n",
    "    for row in range(h//2):\n",
    "        for col in range(w):\n",
    "            state = model.grid.get_cell_list_contents((row,col))\n",
    "            if state:\n",
    "                print(\"*\", end = \" \")\n",
    "            else:\n",
    "                print(\"-\", end = \" \")\n",
    "        print()\n",
    "    \n",
    "    print(\"Grocery shops\")\n",
    "    for row in range(h//2, h):\n",
    "        for col in range(w):\n",
    "            state = model.grid.get_cell_list_contents((row,col))\n",
    "            if state:\n",
    "                print(\"*\", end = \" \")\n",
    "            else:\n",
    "                print(\"-\", end = \" \")\n",
    "        print()"
   ]
  },
  {
   "cell_type": "code",
   "execution_count": 5,
   "metadata": {},
   "outputs": [],
   "source": [
    "# h = model.grid.height\n",
    "# w = model.grid.width\n",
    "# [(row, col) for row in range(h//2) for col in range(w)]"
   ]
  },
  {
   "cell_type": "code",
   "execution_count": 6,
   "metadata": {},
   "outputs": [],
   "source": [
    "def get_places(model):\n",
    "    parks = [(row, col) for row in range(h//2) for col in range(w)]\n",
    "    grocery = [(row, col) for row in range(h//2, h) for col in range(w)]\n",
    "    return [parks, grocery]"
   ]
  },
  {
   "cell_type": "code",
   "execution_count": 7,
   "metadata": {},
   "outputs": [],
   "source": [
    "def get_infections(model):\n",
    "    inf = 0\n",
    "    for agent in model.schedule.agents:\n",
    "        if agent.state == 1:\n",
    "            inf += 1\n",
    "    return inf"
   ]
  },
  {
   "cell_type": "code",
   "execution_count": 8,
   "metadata": {},
   "outputs": [],
   "source": [
    "class MoneyAgent(Agent):\n",
    "    \"\"\" An agent with fixed initial wealth.\"\"\"\n",
    "    def __init__(self, unique_id, model):\n",
    "        super().__init__(unique_id, model)\n",
    "        self.state = 0\n",
    "\n",
    "    def move(self):\n",
    "        possible_steps = self.model.grid.get_neighborhood(\n",
    "            self.pos,\n",
    "            moore=True,\n",
    "            include_center=False)\n",
    "        new_position = self.random.choice(possible_steps)\n",
    "        self.model.grid.move_agent(self, new_position)\n",
    "\n",
    "    def infect(self):\n",
    "        cellmates = self.model.grid.get_cell_list_contents([self.pos])\n",
    "        if len(cellmates) > 1:\n",
    "            other = self.random.choice(cellmates)\n",
    "            if self.state == 1:\n",
    "                other.state = 1\n",
    "    \n",
    "    def home(self):\n",
    "        if self.state == 1:\n",
    "            family = [elem for elem in range(math.floor(self.unique_id)*4, math.floor(self.unique_id)*4+4)]\n",
    "            for member in family:\n",
    "                if member < model.num_agents:\n",
    "                    self.model.schedule.agents[member].state = 1\n",
    "    \n",
    "    def step(self):\n",
    "        self.move()\n",
    "        self.infect()\n",
    "        self.home()"
   ]
  },
  {
   "cell_type": "code",
   "execution_count": 21,
   "metadata": {},
   "outputs": [],
   "source": [
    "model = MoneyModel(1000, 100, 60)"
   ]
  },
  {
   "cell_type": "code",
   "execution_count": 22,
   "metadata": {},
   "outputs": [
    {
     "name": "stdout",
     "output_type": "stream",
     "text": [
      "Days to death 30\n"
     ]
    }
   ],
   "source": [
    "days = 0\n",
    "while(get_infections(model) != model.num_agents):\n",
    "    model.step()\n",
    "#     create_day(model)\n",
    "#     get_infections(model)\n",
    "    days += 1\n",
    "print(\"Days to death\", days)"
   ]
  },
  {
   "cell_type": "code",
   "execution_count": null,
   "metadata": {},
   "outputs": [],
   "source": []
  },
  {
   "cell_type": "code",
   "execution_count": 11,
   "metadata": {},
   "outputs": [],
   "source": [
    "# x = model.grid.get_cell_list_contents((0,7))"
   ]
  },
  {
   "cell_type": "code",
   "execution_count": null,
   "metadata": {},
   "outputs": [],
   "source": []
  },
  {
   "cell_type": "code",
   "execution_count": 12,
   "metadata": {},
   "outputs": [],
   "source": [
    "# for cell in model.grid.coord_iter():\n",
    "#     print(cell)"
   ]
  },
  {
   "cell_type": "code",
   "execution_count": 18,
   "metadata": {},
   "outputs": [
    {
     "name": "stdout",
     "output_type": "stream",
     "text": [
      "1\n",
      "1\n",
      "1\n",
      "1\n",
      "1\n",
      "1\n",
      "1\n",
      "1\n",
      "1\n",
      "1\n",
      "1\n",
      "1\n",
      "1\n",
      "1\n",
      "1\n",
      "1\n",
      "1\n",
      "1\n",
      "1\n",
      "1\n",
      "1\n",
      "1\n",
      "1\n",
      "1\n",
      "1\n",
      "1\n",
      "1\n",
      "1\n",
      "1\n",
      "1\n",
      "1\n",
      "1\n",
      "1\n",
      "1\n",
      "1\n",
      "1\n",
      "1\n",
      "1\n",
      "1\n",
      "1\n",
      "1\n",
      "1\n",
      "1\n",
      "1\n",
      "1\n",
      "1\n",
      "1\n",
      "1\n",
      "1\n",
      "1\n"
     ]
    }
   ],
   "source": [
    "for i in model.schedule.agents:\n",
    "    print(i.state)\n",
    "#     print(i.unique_id)\n",
    "# len(model.schedule.agents)"
   ]
  },
  {
   "cell_type": "code",
   "execution_count": 14,
   "metadata": {},
   "outputs": [],
   "source": [
    "# import numpy as np\n",
    "# import matplotlib.pyplot as plt\n",
    "\n",
    "# agent_counts = np.zeros((model.grid.width, model.grid.height))\n",
    "# for cell in model.grid.coord_iter():\n",
    "#     cell_content, x, y = cell\n",
    "#     agent_count = len(cell_content)\n",
    "#     agent_counts[x][y] = agent_count\n",
    "# plt.imshow(agent_counts, interpolation='nearest')\n",
    "# plt.colorbar()"
   ]
  },
  {
   "cell_type": "code",
   "execution_count": 15,
   "metadata": {},
   "outputs": [],
   "source": [
    "# gini = model.datacollector.get_model_vars_dataframe()\n",
    "# gini.plot()"
   ]
  },
  {
   "cell_type": "code",
   "execution_count": 16,
   "metadata": {},
   "outputs": [],
   "source": [
    "# agent_wealth = model.datacollector.get_agent_vars_dataframe()\n",
    "# agent_wealth.head()"
   ]
  },
  {
   "cell_type": "code",
   "execution_count": 17,
   "metadata": {},
   "outputs": [],
   "source": [
    "# end_wealth = agent_wealth.xs(19, level=\"Step\")[\"Wealth\"]\n",
    "# end_wealth.hist(bins=range(agent_wealth.Wealth.max()+1))"
   ]
  }
 ],
 "metadata": {
  "kernelspec": {
   "display_name": "Python 3",
   "language": "python",
   "name": "python3"
  },
  "language_info": {
   "codemirror_mode": {
    "name": "ipython",
    "version": 3
   },
   "file_extension": ".py",
   "mimetype": "text/x-python",
   "name": "python",
   "nbconvert_exporter": "python",
   "pygments_lexer": "ipython3",
   "version": "3.8.3"
  }
 },
 "nbformat": 4,
 "nbformat_minor": 4
}
